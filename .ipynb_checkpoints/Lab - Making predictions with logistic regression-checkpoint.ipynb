{
 "cells": [
  {
   "cell_type": "code",
   "execution_count": 1,
   "id": "2286ccc0",
   "metadata": {},
   "outputs": [
    {
     "name": "stdout",
     "output_type": "stream",
     "text": [
      "········\n"
     ]
    }
   ],
   "source": [
    "import pandas as pd\n",
    "import numpy as np\n",
    "import pymysql\n",
    "from sqlalchemy import create_engine\n",
    "import pandas as pd\n",
    "import getpass  # To get the password without showing the input\n",
    "password = getpass.getpass()"
   ]
  },
  {
   "cell_type": "code",
   "execution_count": 2,
   "id": "a70f4e27",
   "metadata": {},
   "outputs": [],
   "source": [
    "connection_string = 'mysql+pymysql://root:' + password + '@localhost/sakila'\n",
    "engine = create_engine(connection_string)"
   ]
  },
  {
   "cell_type": "markdown",
   "id": "d1c0ac29",
   "metadata": {},
   "source": [
    "1. Create a query or queries to extract the information you think may be relevant for building the prediction model. It should include some film features and some rental features. Use the data from 2005.\n"
   ]
  },
  {
   "cell_type": "code",
   "execution_count": 3,
   "id": "76d68933",
   "metadata": {},
   "outputs": [],
   "source": [
    "query = '''SELECT film_id, rental_duration, rental_rate, length, replacement_cost, rating, store_id, name FROM sakila.film f\n",
    "LEFT JOIN sakila.inventory i USING (film_id)\n",
    "LEFT JOIN sakila.rental r USING (inventory_id)\n",
    "JOIN sakila.film_category USING(film_id)\n",
    "JOIN sakila.category USING (category_id)\n",
    "GROUP BY f.film_id;'''"
   ]
  },
  {
   "cell_type": "code",
   "execution_count": 4,
   "id": "9204a738",
   "metadata": {},
   "outputs": [
    {
     "data": {
      "text/html": [
       "<div>\n",
       "<style scoped>\n",
       "    .dataframe tbody tr th:only-of-type {\n",
       "        vertical-align: middle;\n",
       "    }\n",
       "\n",
       "    .dataframe tbody tr th {\n",
       "        vertical-align: top;\n",
       "    }\n",
       "\n",
       "    .dataframe thead th {\n",
       "        text-align: right;\n",
       "    }\n",
       "</style>\n",
       "<table border=\"1\" class=\"dataframe\">\n",
       "  <thead>\n",
       "    <tr style=\"text-align: right;\">\n",
       "      <th></th>\n",
       "      <th>film_id</th>\n",
       "      <th>rental_duration</th>\n",
       "      <th>rental_rate</th>\n",
       "      <th>length</th>\n",
       "      <th>replacement_cost</th>\n",
       "      <th>rating</th>\n",
       "      <th>store_id</th>\n",
       "      <th>name</th>\n",
       "    </tr>\n",
       "  </thead>\n",
       "  <tbody>\n",
       "    <tr>\n",
       "      <th>0</th>\n",
       "      <td>19</td>\n",
       "      <td>6</td>\n",
       "      <td>0.99</td>\n",
       "      <td>113</td>\n",
       "      <td>20.99</td>\n",
       "      <td>PG</td>\n",
       "      <td>1.0</td>\n",
       "      <td>Action</td>\n",
       "    </tr>\n",
       "    <tr>\n",
       "      <th>1</th>\n",
       "      <td>21</td>\n",
       "      <td>3</td>\n",
       "      <td>4.99</td>\n",
       "      <td>129</td>\n",
       "      <td>17.99</td>\n",
       "      <td>R</td>\n",
       "      <td>1.0</td>\n",
       "      <td>Action</td>\n",
       "    </tr>\n",
       "    <tr>\n",
       "      <th>2</th>\n",
       "      <td>29</td>\n",
       "      <td>5</td>\n",
       "      <td>2.99</td>\n",
       "      <td>168</td>\n",
       "      <td>11.99</td>\n",
       "      <td>NC-17</td>\n",
       "      <td>1.0</td>\n",
       "      <td>Action</td>\n",
       "    </tr>\n",
       "    <tr>\n",
       "      <th>3</th>\n",
       "      <td>38</td>\n",
       "      <td>6</td>\n",
       "      <td>0.99</td>\n",
       "      <td>68</td>\n",
       "      <td>25.99</td>\n",
       "      <td>NC-17</td>\n",
       "      <td>NaN</td>\n",
       "      <td>Action</td>\n",
       "    </tr>\n",
       "    <tr>\n",
       "      <th>4</th>\n",
       "      <td>56</td>\n",
       "      <td>6</td>\n",
       "      <td>2.99</td>\n",
       "      <td>129</td>\n",
       "      <td>15.99</td>\n",
       "      <td>G</td>\n",
       "      <td>1.0</td>\n",
       "      <td>Action</td>\n",
       "    </tr>\n",
       "    <tr>\n",
       "      <th>...</th>\n",
       "      <td>...</td>\n",
       "      <td>...</td>\n",
       "      <td>...</td>\n",
       "      <td>...</td>\n",
       "      <td>...</td>\n",
       "      <td>...</td>\n",
       "      <td>...</td>\n",
       "      <td>...</td>\n",
       "    </tr>\n",
       "    <tr>\n",
       "      <th>995</th>\n",
       "      <td>931</td>\n",
       "      <td>7</td>\n",
       "      <td>0.99</td>\n",
       "      <td>48</td>\n",
       "      <td>9.99</td>\n",
       "      <td>PG-13</td>\n",
       "      <td>2.0</td>\n",
       "      <td>Travel</td>\n",
       "    </tr>\n",
       "    <tr>\n",
       "      <th>996</th>\n",
       "      <td>977</td>\n",
       "      <td>3</td>\n",
       "      <td>2.99</td>\n",
       "      <td>85</td>\n",
       "      <td>25.99</td>\n",
       "      <td>R</td>\n",
       "      <td>2.0</td>\n",
       "      <td>Travel</td>\n",
       "    </tr>\n",
       "    <tr>\n",
       "      <th>997</th>\n",
       "      <td>981</td>\n",
       "      <td>7</td>\n",
       "      <td>0.99</td>\n",
       "      <td>55</td>\n",
       "      <td>13.99</td>\n",
       "      <td>NC-17</td>\n",
       "      <td>1.0</td>\n",
       "      <td>Travel</td>\n",
       "    </tr>\n",
       "    <tr>\n",
       "      <th>998</th>\n",
       "      <td>988</td>\n",
       "      <td>7</td>\n",
       "      <td>2.99</td>\n",
       "      <td>139</td>\n",
       "      <td>26.99</td>\n",
       "      <td>R</td>\n",
       "      <td>1.0</td>\n",
       "      <td>Travel</td>\n",
       "    </tr>\n",
       "    <tr>\n",
       "      <th>999</th>\n",
       "      <td>989</td>\n",
       "      <td>4</td>\n",
       "      <td>4.99</td>\n",
       "      <td>74</td>\n",
       "      <td>22.99</td>\n",
       "      <td>R</td>\n",
       "      <td>1.0</td>\n",
       "      <td>Travel</td>\n",
       "    </tr>\n",
       "  </tbody>\n",
       "</table>\n",
       "<p>1000 rows × 8 columns</p>\n",
       "</div>"
      ],
      "text/plain": [
       "     film_id  rental_duration  rental_rate  length  replacement_cost rating  \\\n",
       "0         19                6         0.99     113             20.99     PG   \n",
       "1         21                3         4.99     129             17.99      R   \n",
       "2         29                5         2.99     168             11.99  NC-17   \n",
       "3         38                6         0.99      68             25.99  NC-17   \n",
       "4         56                6         2.99     129             15.99      G   \n",
       "..       ...              ...          ...     ...               ...    ...   \n",
       "995      931                7         0.99      48              9.99  PG-13   \n",
       "996      977                3         2.99      85             25.99      R   \n",
       "997      981                7         0.99      55             13.99  NC-17   \n",
       "998      988                7         2.99     139             26.99      R   \n",
       "999      989                4         4.99      74             22.99      R   \n",
       "\n",
       "     store_id    name  \n",
       "0         1.0  Action  \n",
       "1         1.0  Action  \n",
       "2         1.0  Action  \n",
       "3         NaN  Action  \n",
       "4         1.0  Action  \n",
       "..        ...     ...  \n",
       "995       2.0  Travel  \n",
       "996       2.0  Travel  \n",
       "997       1.0  Travel  \n",
       "998       1.0  Travel  \n",
       "999       1.0  Travel  \n",
       "\n",
       "[1000 rows x 8 columns]"
      ]
     },
     "execution_count": 4,
     "metadata": {},
     "output_type": "execute_result"
    }
   ],
   "source": [
    "data = pd.read_sql_query(query,engine)\n",
    "data"
   ]
  },
  {
   "cell_type": "markdown",
   "id": "d4781d8a",
   "metadata": {},
   "source": [
    "2. Create a query to get the list of films and a boolean indicating if it was rented last month (May 2005). This would be our target variable.\n"
   ]
  },
  {
   "cell_type": "code",
   "execution_count": 5,
   "id": "f741fd09",
   "metadata": {},
   "outputs": [],
   "source": [
    "query2 = '''SELECT film_id, rental_duration, rental_rate, length, replacement_cost, rating, store_id, name, COUNT(DISTINCT r.rental_id) AS rented_times, COUNT(DISTINCT i.inventory_id) AS copies, \n",
    "    CASE \n",
    "        WHEN r.rental_date BETWEEN '2005-05-01' AND '2005-05-31' THEN True\n",
    "        ELSE False END AS rented_in_may FROM sakila.film f\n",
    "    LEFT JOIN sakila.inventory i USING (film_id)\n",
    "    LEFT JOIN sakila.rental r USING (inventory_id)\n",
    "    JOIN sakila.film_category USING(film_id)\n",
    "    JOIN sakila.category USING (category_id)\n",
    "    GROUP BY f.film_id;'''"
   ]
  },
  {
   "cell_type": "markdown",
   "id": "8368236b",
   "metadata": {},
   "source": [
    "3. Read the data into a Pandas dataframe.\n"
   ]
  },
  {
   "cell_type": "code",
   "execution_count": 6,
   "id": "3710f9f1",
   "metadata": {},
   "outputs": [
    {
     "data": {
      "text/html": [
       "<div>\n",
       "<style scoped>\n",
       "    .dataframe tbody tr th:only-of-type {\n",
       "        vertical-align: middle;\n",
       "    }\n",
       "\n",
       "    .dataframe tbody tr th {\n",
       "        vertical-align: top;\n",
       "    }\n",
       "\n",
       "    .dataframe thead th {\n",
       "        text-align: right;\n",
       "    }\n",
       "</style>\n",
       "<table border=\"1\" class=\"dataframe\">\n",
       "  <thead>\n",
       "    <tr style=\"text-align: right;\">\n",
       "      <th></th>\n",
       "      <th>film_id</th>\n",
       "      <th>rental_duration</th>\n",
       "      <th>rental_rate</th>\n",
       "      <th>length</th>\n",
       "      <th>replacement_cost</th>\n",
       "      <th>rating</th>\n",
       "      <th>store_id</th>\n",
       "      <th>name</th>\n",
       "      <th>rented_times</th>\n",
       "      <th>copies</th>\n",
       "      <th>rented_in_may</th>\n",
       "    </tr>\n",
       "  </thead>\n",
       "  <tbody>\n",
       "    <tr>\n",
       "      <th>0</th>\n",
       "      <td>1</td>\n",
       "      <td>6</td>\n",
       "      <td>0.99</td>\n",
       "      <td>86</td>\n",
       "      <td>20.99</td>\n",
       "      <td>PG</td>\n",
       "      <td>1.0</td>\n",
       "      <td>Documentary</td>\n",
       "      <td>24</td>\n",
       "      <td>8</td>\n",
       "      <td>0</td>\n",
       "    </tr>\n",
       "    <tr>\n",
       "      <th>1</th>\n",
       "      <td>2</td>\n",
       "      <td>3</td>\n",
       "      <td>4.99</td>\n",
       "      <td>48</td>\n",
       "      <td>12.99</td>\n",
       "      <td>G</td>\n",
       "      <td>2.0</td>\n",
       "      <td>Horror</td>\n",
       "      <td>7</td>\n",
       "      <td>3</td>\n",
       "      <td>0</td>\n",
       "    </tr>\n",
       "    <tr>\n",
       "      <th>2</th>\n",
       "      <td>3</td>\n",
       "      <td>7</td>\n",
       "      <td>2.99</td>\n",
       "      <td>50</td>\n",
       "      <td>18.99</td>\n",
       "      <td>NC-17</td>\n",
       "      <td>2.0</td>\n",
       "      <td>Documentary</td>\n",
       "      <td>12</td>\n",
       "      <td>4</td>\n",
       "      <td>0</td>\n",
       "    </tr>\n",
       "    <tr>\n",
       "      <th>3</th>\n",
       "      <td>4</td>\n",
       "      <td>5</td>\n",
       "      <td>2.99</td>\n",
       "      <td>117</td>\n",
       "      <td>26.99</td>\n",
       "      <td>G</td>\n",
       "      <td>1.0</td>\n",
       "      <td>Horror</td>\n",
       "      <td>23</td>\n",
       "      <td>7</td>\n",
       "      <td>0</td>\n",
       "    </tr>\n",
       "    <tr>\n",
       "      <th>4</th>\n",
       "      <td>5</td>\n",
       "      <td>6</td>\n",
       "      <td>2.99</td>\n",
       "      <td>130</td>\n",
       "      <td>22.99</td>\n",
       "      <td>G</td>\n",
       "      <td>2.0</td>\n",
       "      <td>Family</td>\n",
       "      <td>12</td>\n",
       "      <td>3</td>\n",
       "      <td>1</td>\n",
       "    </tr>\n",
       "    <tr>\n",
       "      <th>...</th>\n",
       "      <td>...</td>\n",
       "      <td>...</td>\n",
       "      <td>...</td>\n",
       "      <td>...</td>\n",
       "      <td>...</td>\n",
       "      <td>...</td>\n",
       "      <td>...</td>\n",
       "      <td>...</td>\n",
       "      <td>...</td>\n",
       "      <td>...</td>\n",
       "      <td>...</td>\n",
       "    </tr>\n",
       "    <tr>\n",
       "      <th>995</th>\n",
       "      <td>996</td>\n",
       "      <td>6</td>\n",
       "      <td>0.99</td>\n",
       "      <td>183</td>\n",
       "      <td>9.99</td>\n",
       "      <td>G</td>\n",
       "      <td>1.0</td>\n",
       "      <td>Documentary</td>\n",
       "      <td>7</td>\n",
       "      <td>2</td>\n",
       "      <td>0</td>\n",
       "    </tr>\n",
       "    <tr>\n",
       "      <th>996</th>\n",
       "      <td>997</td>\n",
       "      <td>4</td>\n",
       "      <td>0.99</td>\n",
       "      <td>179</td>\n",
       "      <td>14.99</td>\n",
       "      <td>NC-17</td>\n",
       "      <td>1.0</td>\n",
       "      <td>Music</td>\n",
       "      <td>6</td>\n",
       "      <td>2</td>\n",
       "      <td>0</td>\n",
       "    </tr>\n",
       "    <tr>\n",
       "      <th>997</th>\n",
       "      <td>998</td>\n",
       "      <td>6</td>\n",
       "      <td>0.99</td>\n",
       "      <td>105</td>\n",
       "      <td>10.99</td>\n",
       "      <td>NC-17</td>\n",
       "      <td>2.0</td>\n",
       "      <td>Horror</td>\n",
       "      <td>9</td>\n",
       "      <td>2</td>\n",
       "      <td>0</td>\n",
       "    </tr>\n",
       "    <tr>\n",
       "      <th>998</th>\n",
       "      <td>999</td>\n",
       "      <td>5</td>\n",
       "      <td>2.99</td>\n",
       "      <td>101</td>\n",
       "      <td>28.99</td>\n",
       "      <td>R</td>\n",
       "      <td>1.0</td>\n",
       "      <td>Children</td>\n",
       "      <td>17</td>\n",
       "      <td>5</td>\n",
       "      <td>0</td>\n",
       "    </tr>\n",
       "    <tr>\n",
       "      <th>999</th>\n",
       "      <td>1000</td>\n",
       "      <td>3</td>\n",
       "      <td>4.99</td>\n",
       "      <td>50</td>\n",
       "      <td>18.99</td>\n",
       "      <td>NC-17</td>\n",
       "      <td>1.0</td>\n",
       "      <td>Comedy</td>\n",
       "      <td>31</td>\n",
       "      <td>8</td>\n",
       "      <td>0</td>\n",
       "    </tr>\n",
       "  </tbody>\n",
       "</table>\n",
       "<p>1000 rows × 11 columns</p>\n",
       "</div>"
      ],
      "text/plain": [
       "     film_id  rental_duration  rental_rate  length  replacement_cost rating  \\\n",
       "0          1                6         0.99      86             20.99     PG   \n",
       "1          2                3         4.99      48             12.99      G   \n",
       "2          3                7         2.99      50             18.99  NC-17   \n",
       "3          4                5         2.99     117             26.99      G   \n",
       "4          5                6         2.99     130             22.99      G   \n",
       "..       ...              ...          ...     ...               ...    ...   \n",
       "995      996                6         0.99     183              9.99      G   \n",
       "996      997                4         0.99     179             14.99  NC-17   \n",
       "997      998                6         0.99     105             10.99  NC-17   \n",
       "998      999                5         2.99     101             28.99      R   \n",
       "999     1000                3         4.99      50             18.99  NC-17   \n",
       "\n",
       "     store_id         name  rented_times  copies  rented_in_may  \n",
       "0         1.0  Documentary            24       8              0  \n",
       "1         2.0       Horror             7       3              0  \n",
       "2         2.0  Documentary            12       4              0  \n",
       "3         1.0       Horror            23       7              0  \n",
       "4         2.0       Family            12       3              1  \n",
       "..        ...          ...           ...     ...            ...  \n",
       "995       1.0  Documentary             7       2              0  \n",
       "996       1.0        Music             6       2              0  \n",
       "997       2.0       Horror             9       2              0  \n",
       "998       1.0     Children            17       5              0  \n",
       "999       1.0       Comedy            31       8              0  \n",
       "\n",
       "[1000 rows x 11 columns]"
      ]
     },
     "execution_count": 6,
     "metadata": {},
     "output_type": "execute_result"
    }
   ],
   "source": [
    "data2 = pd.read_sql_query(query2,engine)\n",
    "data2"
   ]
  },
  {
   "cell_type": "markdown",
   "id": "04707cec",
   "metadata": {},
   "source": [
    "4. Analyze extracted features and transform them. You may need to encode some categorical variables, or scale numerical variables.\n"
   ]
  },
  {
   "cell_type": "code",
   "execution_count": 7,
   "id": "b44cb303",
   "metadata": {},
   "outputs": [],
   "source": [
    "# Xy Split\n",
    "y = data2['rented_in_may']\n",
    "X = data2.drop(['rented_in_may','film_id'],axis=1)"
   ]
  },
  {
   "cell_type": "code",
   "execution_count": 8,
   "id": "9f7ef890",
   "metadata": {},
   "outputs": [
    {
     "data": {
      "text/plain": [
       "1.0    759\n",
       "2.0    199\n",
       "NaN     42\n",
       "Name: store_id, dtype: int64"
      ]
     },
     "execution_count": 8,
     "metadata": {},
     "output_type": "execute_result"
    }
   ],
   "source": [
    "# converting some data\n",
    "X['store_id'] = X['store_id'].astype('object')\n",
    "X['store_id'].value_counts(dropna=False)"
   ]
  },
  {
   "cell_type": "code",
   "execution_count": 9,
   "id": "a053a82e",
   "metadata": {},
   "outputs": [
    {
     "data": {
      "text/plain": [
       "store_1    759\n",
       "store_2    199\n",
       "unknown     42\n",
       "Name: store_id, dtype: int64"
      ]
     },
     "execution_count": 9,
     "metadata": {},
     "output_type": "execute_result"
    }
   ],
   "source": [
    "X['store_id'] = X['store_id'].fillna('unknown')\n",
    "X['store_id'] = X['store_id'].replace(1,'store_1').replace(2,'store_2')\n",
    "X['store_id'].value_counts(dropna=False)"
   ]
  },
  {
   "cell_type": "code",
   "execution_count": 10,
   "id": "a1e4ac83",
   "metadata": {},
   "outputs": [],
   "source": [
    "# Train-test Split\n",
    "from sklearn.model_selection import train_test_split"
   ]
  },
  {
   "cell_type": "code",
   "execution_count": 11,
   "id": "f3be39f6",
   "metadata": {},
   "outputs": [
    {
     "name": "stdout",
     "output_type": "stream",
     "text": [
      "(800, 9)\n",
      "(200, 9)\n",
      "(800,)\n",
      "(200,)\n"
     ]
    }
   ],
   "source": [
    "X_train, X_test, y_train, y_test = train_test_split(X, y, test_size=0.2)\n",
    "print(X_train.shape)\n",
    "print(X_test.shape)\n",
    "print(y_train.shape)\n",
    "print(y_test.shape)"
   ]
  },
  {
   "cell_type": "code",
   "execution_count": 12,
   "id": "3d447b84",
   "metadata": {},
   "outputs": [],
   "source": [
    "X_train_cat = X_train.select_dtypes(include = object)\n",
    "X_train_num = X_train.select_dtypes(include = np.number)"
   ]
  },
  {
   "cell_type": "code",
   "execution_count": 13,
   "id": "4fba7e9e",
   "metadata": {},
   "outputs": [
    {
     "data": {
      "text/html": [
       "<div>\n",
       "<style scoped>\n",
       "    .dataframe tbody tr th:only-of-type {\n",
       "        vertical-align: middle;\n",
       "    }\n",
       "\n",
       "    .dataframe tbody tr th {\n",
       "        vertical-align: top;\n",
       "    }\n",
       "\n",
       "    .dataframe thead th {\n",
       "        text-align: right;\n",
       "    }\n",
       "</style>\n",
       "<table border=\"1\" class=\"dataframe\">\n",
       "  <thead>\n",
       "    <tr style=\"text-align: right;\">\n",
       "      <th></th>\n",
       "      <th>count</th>\n",
       "      <th>mean</th>\n",
       "      <th>std</th>\n",
       "      <th>min</th>\n",
       "      <th>25%</th>\n",
       "      <th>50%</th>\n",
       "      <th>75%</th>\n",
       "      <th>max</th>\n",
       "    </tr>\n",
       "  </thead>\n",
       "  <tbody>\n",
       "    <tr>\n",
       "      <th>rental_duration</th>\n",
       "      <td>800.0</td>\n",
       "      <td>4.97125</td>\n",
       "      <td>1.419663</td>\n",
       "      <td>3.00</td>\n",
       "      <td>4.00</td>\n",
       "      <td>5.00</td>\n",
       "      <td>6.00</td>\n",
       "      <td>7.00</td>\n",
       "    </tr>\n",
       "    <tr>\n",
       "      <th>rental_rate</th>\n",
       "      <td>800.0</td>\n",
       "      <td>2.99000</td>\n",
       "      <td>1.638095</td>\n",
       "      <td>0.99</td>\n",
       "      <td>0.99</td>\n",
       "      <td>2.99</td>\n",
       "      <td>4.99</td>\n",
       "      <td>4.99</td>\n",
       "    </tr>\n",
       "    <tr>\n",
       "      <th>length</th>\n",
       "      <td>800.0</td>\n",
       "      <td>115.92625</td>\n",
       "      <td>40.583582</td>\n",
       "      <td>46.00</td>\n",
       "      <td>80.75</td>\n",
       "      <td>115.00</td>\n",
       "      <td>150.00</td>\n",
       "      <td>185.00</td>\n",
       "    </tr>\n",
       "    <tr>\n",
       "      <th>replacement_cost</th>\n",
       "      <td>800.0</td>\n",
       "      <td>20.09125</td>\n",
       "      <td>6.039586</td>\n",
       "      <td>9.99</td>\n",
       "      <td>14.99</td>\n",
       "      <td>19.99</td>\n",
       "      <td>24.99</td>\n",
       "      <td>29.99</td>\n",
       "    </tr>\n",
       "    <tr>\n",
       "      <th>rented_times</th>\n",
       "      <td>800.0</td>\n",
       "      <td>16.18000</td>\n",
       "      <td>7.292913</td>\n",
       "      <td>0.00</td>\n",
       "      <td>11.00</td>\n",
       "      <td>16.00</td>\n",
       "      <td>21.00</td>\n",
       "      <td>34.00</td>\n",
       "    </tr>\n",
       "    <tr>\n",
       "      <th>copies</th>\n",
       "      <td>800.0</td>\n",
       "      <td>4.62875</td>\n",
       "      <td>2.013328</td>\n",
       "      <td>0.00</td>\n",
       "      <td>3.00</td>\n",
       "      <td>5.00</td>\n",
       "      <td>6.00</td>\n",
       "      <td>8.00</td>\n",
       "    </tr>\n",
       "  </tbody>\n",
       "</table>\n",
       "</div>"
      ],
      "text/plain": [
       "                  count       mean        std    min    25%     50%     75%  \\\n",
       "rental_duration   800.0    4.97125   1.419663   3.00   4.00    5.00    6.00   \n",
       "rental_rate       800.0    2.99000   1.638095   0.99   0.99    2.99    4.99   \n",
       "length            800.0  115.92625  40.583582  46.00  80.75  115.00  150.00   \n",
       "replacement_cost  800.0   20.09125   6.039586   9.99  14.99   19.99   24.99   \n",
       "rented_times      800.0   16.18000   7.292913   0.00  11.00   16.00   21.00   \n",
       "copies            800.0    4.62875   2.013328   0.00   3.00    5.00    6.00   \n",
       "\n",
       "                     max  \n",
       "rental_duration     7.00  \n",
       "rental_rate         4.99  \n",
       "length            185.00  \n",
       "replacement_cost   29.99  \n",
       "rented_times       34.00  \n",
       "copies              8.00  "
      ]
     },
     "execution_count": 13,
     "metadata": {},
     "output_type": "execute_result"
    }
   ],
   "source": [
    "# MinMax\n",
    "X_train_num.describe().T"
   ]
  },
  {
   "cell_type": "code",
   "execution_count": 14,
   "id": "5de91bf7",
   "metadata": {},
   "outputs": [],
   "source": [
    "from sklearn.preprocessing import MinMaxScaler"
   ]
  },
  {
   "cell_type": "code",
   "execution_count": 15,
   "id": "75bb2e50",
   "metadata": {},
   "outputs": [
    {
     "data": {
      "text/html": [
       "<div>\n",
       "<style scoped>\n",
       "    .dataframe tbody tr th:only-of-type {\n",
       "        vertical-align: middle;\n",
       "    }\n",
       "\n",
       "    .dataframe tbody tr th {\n",
       "        vertical-align: top;\n",
       "    }\n",
       "\n",
       "    .dataframe thead th {\n",
       "        text-align: right;\n",
       "    }\n",
       "</style>\n",
       "<table border=\"1\" class=\"dataframe\">\n",
       "  <thead>\n",
       "    <tr style=\"text-align: right;\">\n",
       "      <th></th>\n",
       "      <th>rental_duration</th>\n",
       "      <th>rental_rate</th>\n",
       "      <th>length</th>\n",
       "      <th>replacement_cost</th>\n",
       "      <th>rented_times</th>\n",
       "      <th>copies</th>\n",
       "    </tr>\n",
       "  </thead>\n",
       "  <tbody>\n",
       "    <tr>\n",
       "      <th>0</th>\n",
       "      <td>0.75</td>\n",
       "      <td>1.0</td>\n",
       "      <td>0.769784</td>\n",
       "      <td>0.50</td>\n",
       "      <td>0.470588</td>\n",
       "      <td>0.500</td>\n",
       "    </tr>\n",
       "    <tr>\n",
       "      <th>1</th>\n",
       "      <td>1.00</td>\n",
       "      <td>0.5</td>\n",
       "      <td>0.424460</td>\n",
       "      <td>0.45</td>\n",
       "      <td>0.264706</td>\n",
       "      <td>0.375</td>\n",
       "    </tr>\n",
       "    <tr>\n",
       "      <th>2</th>\n",
       "      <td>0.75</td>\n",
       "      <td>0.5</td>\n",
       "      <td>0.683453</td>\n",
       "      <td>0.60</td>\n",
       "      <td>0.647059</td>\n",
       "      <td>0.750</td>\n",
       "    </tr>\n",
       "    <tr>\n",
       "      <th>3</th>\n",
       "      <td>1.00</td>\n",
       "      <td>0.5</td>\n",
       "      <td>0.453237</td>\n",
       "      <td>0.20</td>\n",
       "      <td>0.676471</td>\n",
       "      <td>0.750</td>\n",
       "    </tr>\n",
       "    <tr>\n",
       "      <th>4</th>\n",
       "      <td>0.50</td>\n",
       "      <td>1.0</td>\n",
       "      <td>0.532374</td>\n",
       "      <td>0.95</td>\n",
       "      <td>0.470588</td>\n",
       "      <td>0.750</td>\n",
       "    </tr>\n",
       "    <tr>\n",
       "      <th>...</th>\n",
       "      <td>...</td>\n",
       "      <td>...</td>\n",
       "      <td>...</td>\n",
       "      <td>...</td>\n",
       "      <td>...</td>\n",
       "      <td>...</td>\n",
       "    </tr>\n",
       "    <tr>\n",
       "      <th>795</th>\n",
       "      <td>0.75</td>\n",
       "      <td>0.0</td>\n",
       "      <td>0.345324</td>\n",
       "      <td>0.70</td>\n",
       "      <td>0.000000</td>\n",
       "      <td>0.000</td>\n",
       "    </tr>\n",
       "    <tr>\n",
       "      <th>796</th>\n",
       "      <td>0.75</td>\n",
       "      <td>0.0</td>\n",
       "      <td>0.395683</td>\n",
       "      <td>0.90</td>\n",
       "      <td>0.235294</td>\n",
       "      <td>0.375</td>\n",
       "    </tr>\n",
       "    <tr>\n",
       "      <th>797</th>\n",
       "      <td>0.25</td>\n",
       "      <td>0.5</td>\n",
       "      <td>0.079137</td>\n",
       "      <td>1.00</td>\n",
       "      <td>0.205882</td>\n",
       "      <td>0.250</td>\n",
       "    </tr>\n",
       "    <tr>\n",
       "      <th>798</th>\n",
       "      <td>0.00</td>\n",
       "      <td>0.0</td>\n",
       "      <td>0.215827</td>\n",
       "      <td>0.50</td>\n",
       "      <td>0.235294</td>\n",
       "      <td>0.375</td>\n",
       "    </tr>\n",
       "    <tr>\n",
       "      <th>799</th>\n",
       "      <td>0.50</td>\n",
       "      <td>0.0</td>\n",
       "      <td>0.935252</td>\n",
       "      <td>0.40</td>\n",
       "      <td>0.411765</td>\n",
       "      <td>0.500</td>\n",
       "    </tr>\n",
       "  </tbody>\n",
       "</table>\n",
       "<p>800 rows × 6 columns</p>\n",
       "</div>"
      ],
      "text/plain": [
       "     rental_duration  rental_rate    length  replacement_cost  rented_times  \\\n",
       "0               0.75          1.0  0.769784              0.50      0.470588   \n",
       "1               1.00          0.5  0.424460              0.45      0.264706   \n",
       "2               0.75          0.5  0.683453              0.60      0.647059   \n",
       "3               1.00          0.5  0.453237              0.20      0.676471   \n",
       "4               0.50          1.0  0.532374              0.95      0.470588   \n",
       "..               ...          ...       ...               ...           ...   \n",
       "795             0.75          0.0  0.345324              0.70      0.000000   \n",
       "796             0.75          0.0  0.395683              0.90      0.235294   \n",
       "797             0.25          0.5  0.079137              1.00      0.205882   \n",
       "798             0.00          0.0  0.215827              0.50      0.235294   \n",
       "799             0.50          0.0  0.935252              0.40      0.411765   \n",
       "\n",
       "     copies  \n",
       "0     0.500  \n",
       "1     0.375  \n",
       "2     0.750  \n",
       "3     0.750  \n",
       "4     0.750  \n",
       "..      ...  \n",
       "795   0.000  \n",
       "796   0.375  \n",
       "797   0.250  \n",
       "798   0.375  \n",
       "799   0.500  \n",
       "\n",
       "[800 rows x 6 columns]"
      ]
     },
     "execution_count": 15,
     "metadata": {},
     "output_type": "execute_result"
    }
   ],
   "source": [
    "MinMaxtransformer = MinMaxScaler().fit(X_train_num) \n",
    "X_train_norm = MinMaxtransformer.transform(X_train_num)\n",
    "X_train_norm = pd.DataFrame(X_train_norm,columns=X_train_num.columns) \n",
    "X_train_norm"
   ]
  },
  {
   "cell_type": "code",
   "execution_count": 16,
   "id": "1d6e15b5",
   "metadata": {},
   "outputs": [
    {
     "data": {
      "text/html": [
       "<div>\n",
       "<style scoped>\n",
       "    .dataframe tbody tr th:only-of-type {\n",
       "        vertical-align: middle;\n",
       "    }\n",
       "\n",
       "    .dataframe tbody tr th {\n",
       "        vertical-align: top;\n",
       "    }\n",
       "\n",
       "    .dataframe thead th {\n",
       "        text-align: right;\n",
       "    }\n",
       "</style>\n",
       "<table border=\"1\" class=\"dataframe\">\n",
       "  <thead>\n",
       "    <tr style=\"text-align: right;\">\n",
       "      <th></th>\n",
       "      <th>count</th>\n",
       "      <th>unique</th>\n",
       "      <th>top</th>\n",
       "      <th>freq</th>\n",
       "    </tr>\n",
       "  </thead>\n",
       "  <tbody>\n",
       "    <tr>\n",
       "      <th>rating</th>\n",
       "      <td>800</td>\n",
       "      <td>5</td>\n",
       "      <td>PG-13</td>\n",
       "      <td>186</td>\n",
       "    </tr>\n",
       "    <tr>\n",
       "      <th>store_id</th>\n",
       "      <td>800</td>\n",
       "      <td>3</td>\n",
       "      <td>store_1</td>\n",
       "      <td>615</td>\n",
       "    </tr>\n",
       "    <tr>\n",
       "      <th>name</th>\n",
       "      <td>800</td>\n",
       "      <td>16</td>\n",
       "      <td>Foreign</td>\n",
       "      <td>62</td>\n",
       "    </tr>\n",
       "  </tbody>\n",
       "</table>\n",
       "</div>"
      ],
      "text/plain": [
       "         count unique      top freq\n",
       "rating     800      5    PG-13  186\n",
       "store_id   800      3  store_1  615\n",
       "name       800     16  Foreign   62"
      ]
     },
     "execution_count": 16,
     "metadata": {},
     "output_type": "execute_result"
    }
   ],
   "source": [
    "# Encoding categoricals\n",
    "X_train_cat.describe().T"
   ]
  },
  {
   "cell_type": "code",
   "execution_count": 17,
   "id": "cb6aaa26",
   "metadata": {},
   "outputs": [],
   "source": [
    "from sklearn.preprocessing import OneHotEncoder"
   ]
  },
  {
   "cell_type": "code",
   "execution_count": 18,
   "id": "22792cb2",
   "metadata": {},
   "outputs": [],
   "source": [
    "X_train_cat1 = pd.DataFrame(X_train_cat['rating'])\n",
    "X_train_cat2 = pd.DataFrame(X_train_cat['store_id'])\n",
    "X_train_cat3 = pd.DataFrame(X_train_cat['name'])"
   ]
  },
  {
   "cell_type": "code",
   "execution_count": 19,
   "id": "78a1f466",
   "metadata": {
    "scrolled": true
   },
   "outputs": [
    {
     "name": "stdout",
     "output_type": "stream",
     "text": [
      "[array(['G', 'NC-17', 'PG', 'PG-13', 'R'], dtype=object)]\n"
     ]
    }
   ],
   "source": [
    "encoder1 = OneHotEncoder(drop='first').fit(X_train_cat1)\n",
    "print(encoder1.categories_)\n",
    "transformer1 = encoder1.transform(X_train_cat1).toarray()"
   ]
  },
  {
   "cell_type": "code",
   "execution_count": 20,
   "id": "8d3d241a",
   "metadata": {
    "scrolled": true
   },
   "outputs": [
    {
     "name": "stdout",
     "output_type": "stream",
     "text": [
      "[array(['store_1', 'store_2', 'unknown'], dtype=object)]\n"
     ]
    }
   ],
   "source": [
    "encoder2 = OneHotEncoder(drop='first').fit(X_train_cat2)\n",
    "print(encoder2.categories_)\n",
    "transformer2 = encoder2.transform(X_train_cat2).toarray()"
   ]
  },
  {
   "cell_type": "code",
   "execution_count": 21,
   "id": "3cedf3ff",
   "metadata": {
    "scrolled": true
   },
   "outputs": [
    {
     "name": "stdout",
     "output_type": "stream",
     "text": [
      "[array(['Action', 'Animation', 'Children', 'Classics', 'Comedy',\n",
      "       'Documentary', 'Drama', 'Family', 'Foreign', 'Games', 'Horror',\n",
      "       'Music', 'New', 'Sci-Fi', 'Sports', 'Travel'], dtype=object)]\n"
     ]
    }
   ],
   "source": [
    "encoder3 = OneHotEncoder(drop='first').fit(X_train_cat3)\n",
    "print(encoder3.categories_)\n",
    "transformer3 = encoder3.transform(X_train_cat3).toarray()"
   ]
  },
  {
   "cell_type": "code",
   "execution_count": 22,
   "id": "e1473382",
   "metadata": {},
   "outputs": [],
   "source": [
    "col_names1 = ['NC-17', 'PG', 'PG-13', 'R']\n",
    "X_1_enc = pd.DataFrame(transformer1,columns=col_names1)"
   ]
  },
  {
   "cell_type": "code",
   "execution_count": 23,
   "id": "1a2ba74f",
   "metadata": {},
   "outputs": [],
   "source": [
    "col_names2 = ['store_2', 'unknown']\n",
    "X_2_enc = pd.DataFrame(transformer2,columns=col_names2)"
   ]
  },
  {
   "cell_type": "code",
   "execution_count": 24,
   "id": "6651c329",
   "metadata": {},
   "outputs": [],
   "source": [
    "col_names3 = ['Animation', 'Children', 'Classics', 'Comedy',\n",
    "       'Documentary', 'Drama', 'Family', 'Foreign', 'Games', 'Horror',\n",
    "       'Music', 'New', 'Sci-Fi', 'Sports', 'Travel']\n",
    "X_3_enc = pd.DataFrame(transformer3,columns=col_names3)"
   ]
  },
  {
   "cell_type": "code",
   "execution_count": 25,
   "id": "1be03580",
   "metadata": {},
   "outputs": [
    {
     "data": {
      "text/plain": [
       "(800, 27)"
      ]
     },
     "execution_count": 25,
     "metadata": {},
     "output_type": "execute_result"
    }
   ],
   "source": [
    "# Concatenating X_train data\n",
    "X_train_trans = pd.concat([X_train_norm, X_1_enc, X_2_enc,X_3_enc], axis=1)\n",
    "X_train_trans.shape"
   ]
  },
  {
   "cell_type": "markdown",
   "id": "a001825d",
   "metadata": {},
   "source": [
    "5. Create a logistic regression model to predict this variable from the cleaned data."
   ]
  },
  {
   "cell_type": "code",
   "execution_count": 26,
   "id": "9175bf6b",
   "metadata": {},
   "outputs": [],
   "source": [
    "from sklearn.linear_model import LogisticRegression"
   ]
  },
  {
   "cell_type": "code",
   "execution_count": 27,
   "id": "8003972b",
   "metadata": {},
   "outputs": [],
   "source": [
    "classification = LogisticRegression(random_state=0, solver='lbfgs',\n",
    "                  multi_class='multinomial').fit(X_train_trans, y_train)"
   ]
  },
  {
   "cell_type": "code",
   "execution_count": null,
   "id": "cb094b37",
   "metadata": {},
   "outputs": [],
   "source": [
    "# transform test data with previous encoders "
   ]
  },
  {
   "cell_type": "code",
   "execution_count": 29,
   "id": "2672b71e",
   "metadata": {},
   "outputs": [],
   "source": [
    "X_test_cat = X_test.select_dtypes(include = object)\n",
    "X_test_num = X_test.select_dtypes(include = np.number)"
   ]
  },
  {
   "cell_type": "code",
   "execution_count": 32,
   "id": "62610114",
   "metadata": {},
   "outputs": [],
   "source": [
    "X_test_norm = MinMaxtransformer.transform(X_test_num)\n",
    "X_test_norm = pd.DataFrame(X_test_norm,columns=X_test_num.columns) "
   ]
  },
  {
   "cell_type": "code",
   "execution_count": 33,
   "id": "c0bfbfee",
   "metadata": {},
   "outputs": [],
   "source": [
    "X_test_cat1 = pd.DataFrame(X_test_cat['rating'])\n",
    "X_test_cat2 = pd.DataFrame(X_test_cat['store_id'])\n",
    "X_test_cat3 = pd.DataFrame(X_test_cat['name'])"
   ]
  },
  {
   "cell_type": "code",
   "execution_count": 34,
   "id": "7f4d3bb8",
   "metadata": {
    "scrolled": true
   },
   "outputs": [],
   "source": [
    "trans1 = encoder1.transform(X_test_cat1).toarray()\n",
    "X_test1_enc = pd.DataFrame(trans1,columns=col_names1)"
   ]
  },
  {
   "cell_type": "code",
   "execution_count": 35,
   "id": "b2973493",
   "metadata": {
    "scrolled": true
   },
   "outputs": [],
   "source": [
    "trans2 = encoder2.transform(X_test_cat2).toarray()\n",
    "X_test2_enc = pd.DataFrame(trans2,columns=col_names2)"
   ]
  },
  {
   "cell_type": "code",
   "execution_count": 36,
   "id": "564f65ef",
   "metadata": {
    "scrolled": true
   },
   "outputs": [],
   "source": [
    "trans3 = encoder3.transform(X_test_cat3).toarray()\n",
    "X_test3_enc = pd.DataFrame(trans3,columns=col_names3)"
   ]
  },
  {
   "cell_type": "code",
   "execution_count": 38,
   "id": "ac16df4d",
   "metadata": {},
   "outputs": [
    {
     "data": {
      "text/plain": [
       "(200, 27)"
      ]
     },
     "execution_count": 38,
     "metadata": {},
     "output_type": "execute_result"
    }
   ],
   "source": [
    "# Concatenating test data\n",
    "X_test_trans = pd.concat([X_test_norm, X_test1_enc, X_test2_enc,X_test3_enc], axis=1)\n",
    "X_test_trans.shape"
   ]
  },
  {
   "cell_type": "code",
   "execution_count": null,
   "id": "6a29eb1b",
   "metadata": {},
   "outputs": [],
   "source": [
    "# predict test data"
   ]
  },
  {
   "cell_type": "code",
   "execution_count": 40,
   "id": "0cc6cbc1",
   "metadata": {},
   "outputs": [
    {
     "data": {
      "text/plain": [
       "0.8"
      ]
     },
     "execution_count": 40,
     "metadata": {},
     "output_type": "execute_result"
    }
   ],
   "source": [
    "predictions = classification.predict(X_test_trans)\n",
    "classification.score(X_test_trans, y_test)"
   ]
  },
  {
   "cell_type": "code",
   "execution_count": 45,
   "id": "810cfe40",
   "metadata": {},
   "outputs": [
    {
     "name": "stdout",
     "output_type": "stream",
     "text": [
      "0    161\n",
      "1     39\n",
      "Name: rented_in_may, dtype: int64\n"
     ]
    },
    {
     "data": {
      "text/plain": [
       "0    199\n",
       "1      1\n",
       "dtype: int64"
      ]
     },
     "execution_count": 45,
     "metadata": {},
     "output_type": "execute_result"
    }
   ],
   "source": [
    "print(y_test.value_counts())\n",
    "pd.Series(predictions).value_counts()"
   ]
  },
  {
   "cell_type": "code",
   "execution_count": 46,
   "id": "c695b946",
   "metadata": {},
   "outputs": [],
   "source": [
    "# confusion matrix\n",
    "from sklearn.metrics import confusion_matrix"
   ]
  },
  {
   "cell_type": "code",
   "execution_count": 47,
   "id": "3d15afaf",
   "metadata": {},
   "outputs": [
    {
     "data": {
      "text/plain": [
       "array([[160,   1],\n",
       "       [ 39,   0]], dtype=int64)"
      ]
     },
     "execution_count": 47,
     "metadata": {},
     "output_type": "execute_result"
    }
   ],
   "source": [
    "confusion_matrix(y_test, predictions)"
   ]
  },
  {
   "cell_type": "markdown",
   "id": "38dbbbd5",
   "metadata": {},
   "source": [
    "6. Evaluate the results."
   ]
  },
  {
   "cell_type": "markdown",
   "id": "2654897d",
   "metadata": {},
   "source": [
    "As we saw before, the logistic regression tends to overcompensate to where it has more values, so it was very precise with one value, but very less precise with the other, I will try the KNN classifier to try get better results"
   ]
  },
  {
   "cell_type": "code",
   "execution_count": 48,
   "id": "e2e6b7df",
   "metadata": {},
   "outputs": [],
   "source": [
    "from sklearn import neighbors"
   ]
  },
  {
   "cell_type": "code",
   "execution_count": 57,
   "id": "2997ab47",
   "metadata": {},
   "outputs": [
    {
     "data": {
      "text/plain": [
       "0.755"
      ]
     },
     "execution_count": 57,
     "metadata": {},
     "output_type": "execute_result"
    }
   ],
   "source": [
    "clf = neighbors.KNeighborsClassifier(n_neighbors=3, weights='uniform')\n",
    "clf.fit(X_train_trans, y_train)\n",
    "predictions_clf = clf.predict(X_test_trans)\n",
    "clf.score(X_test_trans, y_test)"
   ]
  },
  {
   "cell_type": "code",
   "execution_count": 58,
   "id": "988645a1",
   "metadata": {},
   "outputs": [
    {
     "data": {
      "text/plain": [
       "array([[147,  14],\n",
       "       [ 35,   4]], dtype=int64)"
      ]
     },
     "execution_count": 58,
     "metadata": {},
     "output_type": "execute_result"
    }
   ],
   "source": [
    "confusion_matrix(y_test, predictions_clf)"
   ]
  },
  {
   "cell_type": "markdown",
   "id": "b99e5bef",
   "metadata": {},
   "source": [
    "In this case we got some more values from the lesser value, but less rigth values from the other one, so it would be better the logistic regression"
   ]
  }
 ],
 "metadata": {
  "kernelspec": {
   "display_name": "Python 3 (ipykernel)",
   "language": "python",
   "name": "python3"
  },
  "language_info": {
   "codemirror_mode": {
    "name": "ipython",
    "version": 3
   },
   "file_extension": ".py",
   "mimetype": "text/x-python",
   "name": "python",
   "nbconvert_exporter": "python",
   "pygments_lexer": "ipython3",
   "version": "3.9.12"
  }
 },
 "nbformat": 4,
 "nbformat_minor": 5
}
